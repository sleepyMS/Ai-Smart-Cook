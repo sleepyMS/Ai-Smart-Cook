{
  "nbformat": 4,
  "nbformat_minor": 0,
  "metadata": {
    "colab": {
      "provenance": [],
      "gpuType": "T4",
      "include_colab_link": true
    },
    "kernelspec": {
      "name": "python3",
      "display_name": "Python 3"
    },
    "language_info": {
      "name": "python"
    },
    "accelerator": "GPU"
  },
  "cells": [
    {
      "cell_type": "markdown",
      "metadata": {
        "id": "view-in-github",
        "colab_type": "text"
      },
      "source": [
        "<a href=\"https://colab.research.google.com/github/sleepyMS/Ai-Smart-Cook/blob/main/2024_01_10.ipynb\" target=\"_parent\"><img src=\"https://colab.research.google.com/assets/colab-badge.svg\" alt=\"Open In Colab\"/></a>"
      ]
    },
    {
      "cell_type": "markdown",
      "source": [
        "## LSTM 사용을 위한 학습 - 1"
      ],
      "metadata": {
        "id": "LHwQBJMpVTCl"
      }
    },
    {
      "cell_type": "code",
      "source": [
        "# !pip3 install ccxt"
      ],
      "metadata": {
        "id": "JSSxg22NTjtC"
      },
      "execution_count": null,
      "outputs": []
    },
    {
      "cell_type": "code",
      "source": [
        "# import ccxt\n",
        "import time\n",
        "import pandas as pd\n",
        "import numpy as np\n",
        "import pprint\n",
        "import datetime\n",
        "import matplotlib.pyplot as plt"
      ],
      "metadata": {
        "id": "d_4HloQyEztp"
      },
      "execution_count": null,
      "outputs": []
    },
    {
      "cell_type": "code",
      "source": [
        "df1 = pd.read_csv('./CRYPTOCAP_BTC.D, 1D.csv')\n",
        "df2 = pd.read_csv('./BINANCE_BTCUSDT, 1D.csv')\n",
        "df3 = pd.read_csv('./BINANCE_XRPUSDT, 1D.csv')\n",
        "\n",
        "df1 = df1.iloc[:,[0,4]]\n",
        "df2 = df2.iloc[:,[0,4]]\n",
        "df3 = df3.iloc[:,[0,4]]\n",
        "\n",
        "df = pd.merge(df1, df2, on='time')\n",
        "data = pd.merge(df, df3, on='time')\n",
        "data = data.set_index('time')\n",
        "\n",
        "data"
      ],
      "metadata": {
        "id": "TLbiw9htE-ln",
        "colab": {
          "base_uri": "https://localhost:8080/",
          "height": 455
        },
        "outputId": "214109a9-a9bd-43c6-df12-cfa818a8c785"
      },
      "execution_count": null,
      "outputs": [
        {
          "output_type": "execute_result",
          "data": {
            "text/plain": [
              "              close_x   close_y    close\n",
              "time                                    \n",
              "2020-01-01  69.921538   7200.85  0.19305\n",
              "2020-01-02  69.920361   6965.71  0.18750\n",
              "2020-01-03  69.955510   7344.96  0.19338\n",
              "2020-01-04  69.875262   7354.11  0.19305\n",
              "2020-01-05  69.704416   7358.75  0.19453\n",
              "...               ...       ...      ...\n",
              "2023-12-27  51.475842  43428.85  0.63400\n",
              "2023-12-28  51.340381  42563.76  0.63460\n",
              "2023-12-29  51.282270  42066.95  0.62300\n",
              "2023-12-30  51.384654  42140.28  0.62070\n",
              "2023-12-31  51.594716  42283.58  0.61560\n",
              "\n",
              "[1461 rows x 3 columns]"
            ],
            "text/html": [
              "\n",
              "  <div id=\"df-dd8b424f-d488-4703-a635-341b68b2c804\" class=\"colab-df-container\">\n",
              "    <div>\n",
              "<style scoped>\n",
              "    .dataframe tbody tr th:only-of-type {\n",
              "        vertical-align: middle;\n",
              "    }\n",
              "\n",
              "    .dataframe tbody tr th {\n",
              "        vertical-align: top;\n",
              "    }\n",
              "\n",
              "    .dataframe thead th {\n",
              "        text-align: right;\n",
              "    }\n",
              "</style>\n",
              "<table border=\"1\" class=\"dataframe\">\n",
              "  <thead>\n",
              "    <tr style=\"text-align: right;\">\n",
              "      <th></th>\n",
              "      <th>close_x</th>\n",
              "      <th>close_y</th>\n",
              "      <th>close</th>\n",
              "    </tr>\n",
              "    <tr>\n",
              "      <th>time</th>\n",
              "      <th></th>\n",
              "      <th></th>\n",
              "      <th></th>\n",
              "    </tr>\n",
              "  </thead>\n",
              "  <tbody>\n",
              "    <tr>\n",
              "      <th>2020-01-01</th>\n",
              "      <td>69.921538</td>\n",
              "      <td>7200.85</td>\n",
              "      <td>0.19305</td>\n",
              "    </tr>\n",
              "    <tr>\n",
              "      <th>2020-01-02</th>\n",
              "      <td>69.920361</td>\n",
              "      <td>6965.71</td>\n",
              "      <td>0.18750</td>\n",
              "    </tr>\n",
              "    <tr>\n",
              "      <th>2020-01-03</th>\n",
              "      <td>69.955510</td>\n",
              "      <td>7344.96</td>\n",
              "      <td>0.19338</td>\n",
              "    </tr>\n",
              "    <tr>\n",
              "      <th>2020-01-04</th>\n",
              "      <td>69.875262</td>\n",
              "      <td>7354.11</td>\n",
              "      <td>0.19305</td>\n",
              "    </tr>\n",
              "    <tr>\n",
              "      <th>2020-01-05</th>\n",
              "      <td>69.704416</td>\n",
              "      <td>7358.75</td>\n",
              "      <td>0.19453</td>\n",
              "    </tr>\n",
              "    <tr>\n",
              "      <th>...</th>\n",
              "      <td>...</td>\n",
              "      <td>...</td>\n",
              "      <td>...</td>\n",
              "    </tr>\n",
              "    <tr>\n",
              "      <th>2023-12-27</th>\n",
              "      <td>51.475842</td>\n",
              "      <td>43428.85</td>\n",
              "      <td>0.63400</td>\n",
              "    </tr>\n",
              "    <tr>\n",
              "      <th>2023-12-28</th>\n",
              "      <td>51.340381</td>\n",
              "      <td>42563.76</td>\n",
              "      <td>0.63460</td>\n",
              "    </tr>\n",
              "    <tr>\n",
              "      <th>2023-12-29</th>\n",
              "      <td>51.282270</td>\n",
              "      <td>42066.95</td>\n",
              "      <td>0.62300</td>\n",
              "    </tr>\n",
              "    <tr>\n",
              "      <th>2023-12-30</th>\n",
              "      <td>51.384654</td>\n",
              "      <td>42140.28</td>\n",
              "      <td>0.62070</td>\n",
              "    </tr>\n",
              "    <tr>\n",
              "      <th>2023-12-31</th>\n",
              "      <td>51.594716</td>\n",
              "      <td>42283.58</td>\n",
              "      <td>0.61560</td>\n",
              "    </tr>\n",
              "  </tbody>\n",
              "</table>\n",
              "<p>1461 rows × 3 columns</p>\n",
              "</div>\n",
              "    <div class=\"colab-df-buttons\">\n",
              "\n",
              "  <div class=\"colab-df-container\">\n",
              "    <button class=\"colab-df-convert\" onclick=\"convertToInteractive('df-dd8b424f-d488-4703-a635-341b68b2c804')\"\n",
              "            title=\"Convert this dataframe to an interactive table.\"\n",
              "            style=\"display:none;\">\n",
              "\n",
              "  <svg xmlns=\"http://www.w3.org/2000/svg\" height=\"24px\" viewBox=\"0 -960 960 960\">\n",
              "    <path d=\"M120-120v-720h720v720H120Zm60-500h600v-160H180v160Zm220 220h160v-160H400v160Zm0 220h160v-160H400v160ZM180-400h160v-160H180v160Zm440 0h160v-160H620v160ZM180-180h160v-160H180v160Zm440 0h160v-160H620v160Z\"/>\n",
              "  </svg>\n",
              "    </button>\n",
              "\n",
              "  <style>\n",
              "    .colab-df-container {\n",
              "      display:flex;\n",
              "      gap: 12px;\n",
              "    }\n",
              "\n",
              "    .colab-df-convert {\n",
              "      background-color: #E8F0FE;\n",
              "      border: none;\n",
              "      border-radius: 50%;\n",
              "      cursor: pointer;\n",
              "      display: none;\n",
              "      fill: #1967D2;\n",
              "      height: 32px;\n",
              "      padding: 0 0 0 0;\n",
              "      width: 32px;\n",
              "    }\n",
              "\n",
              "    .colab-df-convert:hover {\n",
              "      background-color: #E2EBFA;\n",
              "      box-shadow: 0px 1px 2px rgba(60, 64, 67, 0.3), 0px 1px 3px 1px rgba(60, 64, 67, 0.15);\n",
              "      fill: #174EA6;\n",
              "    }\n",
              "\n",
              "    .colab-df-buttons div {\n",
              "      margin-bottom: 4px;\n",
              "    }\n",
              "\n",
              "    [theme=dark] .colab-df-convert {\n",
              "      background-color: #3B4455;\n",
              "      fill: #D2E3FC;\n",
              "    }\n",
              "\n",
              "    [theme=dark] .colab-df-convert:hover {\n",
              "      background-color: #434B5C;\n",
              "      box-shadow: 0px 1px 3px 1px rgba(0, 0, 0, 0.15);\n",
              "      filter: drop-shadow(0px 1px 2px rgba(0, 0, 0, 0.3));\n",
              "      fill: #FFFFFF;\n",
              "    }\n",
              "  </style>\n",
              "\n",
              "    <script>\n",
              "      const buttonEl =\n",
              "        document.querySelector('#df-dd8b424f-d488-4703-a635-341b68b2c804 button.colab-df-convert');\n",
              "      buttonEl.style.display =\n",
              "        google.colab.kernel.accessAllowed ? 'block' : 'none';\n",
              "\n",
              "      async function convertToInteractive(key) {\n",
              "        const element = document.querySelector('#df-dd8b424f-d488-4703-a635-341b68b2c804');\n",
              "        const dataTable =\n",
              "          await google.colab.kernel.invokeFunction('convertToInteractive',\n",
              "                                                    [key], {});\n",
              "        if (!dataTable) return;\n",
              "\n",
              "        const docLinkHtml = 'Like what you see? Visit the ' +\n",
              "          '<a target=\"_blank\" href=https://colab.research.google.com/notebooks/data_table.ipynb>data table notebook</a>'\n",
              "          + ' to learn more about interactive tables.';\n",
              "        element.innerHTML = '';\n",
              "        dataTable['output_type'] = 'display_data';\n",
              "        await google.colab.output.renderOutput(dataTable, element);\n",
              "        const docLink = document.createElement('div');\n",
              "        docLink.innerHTML = docLinkHtml;\n",
              "        element.appendChild(docLink);\n",
              "      }\n",
              "    </script>\n",
              "  </div>\n",
              "\n",
              "\n",
              "<div id=\"df-8f3b01c1-ccaa-4e63-a1c3-2ac7a919be6d\">\n",
              "  <button class=\"colab-df-quickchart\" onclick=\"quickchart('df-8f3b01c1-ccaa-4e63-a1c3-2ac7a919be6d')\"\n",
              "            title=\"Suggest charts\"\n",
              "            style=\"display:none;\">\n",
              "\n",
              "<svg xmlns=\"http://www.w3.org/2000/svg\" height=\"24px\"viewBox=\"0 0 24 24\"\n",
              "     width=\"24px\">\n",
              "    <g>\n",
              "        <path d=\"M19 3H5c-1.1 0-2 .9-2 2v14c0 1.1.9 2 2 2h14c1.1 0 2-.9 2-2V5c0-1.1-.9-2-2-2zM9 17H7v-7h2v7zm4 0h-2V7h2v10zm4 0h-2v-4h2v4z\"/>\n",
              "    </g>\n",
              "</svg>\n",
              "  </button>\n",
              "\n",
              "<style>\n",
              "  .colab-df-quickchart {\n",
              "      --bg-color: #E8F0FE;\n",
              "      --fill-color: #1967D2;\n",
              "      --hover-bg-color: #E2EBFA;\n",
              "      --hover-fill-color: #174EA6;\n",
              "      --disabled-fill-color: #AAA;\n",
              "      --disabled-bg-color: #DDD;\n",
              "  }\n",
              "\n",
              "  [theme=dark] .colab-df-quickchart {\n",
              "      --bg-color: #3B4455;\n",
              "      --fill-color: #D2E3FC;\n",
              "      --hover-bg-color: #434B5C;\n",
              "      --hover-fill-color: #FFFFFF;\n",
              "      --disabled-bg-color: #3B4455;\n",
              "      --disabled-fill-color: #666;\n",
              "  }\n",
              "\n",
              "  .colab-df-quickchart {\n",
              "    background-color: var(--bg-color);\n",
              "    border: none;\n",
              "    border-radius: 50%;\n",
              "    cursor: pointer;\n",
              "    display: none;\n",
              "    fill: var(--fill-color);\n",
              "    height: 32px;\n",
              "    padding: 0;\n",
              "    width: 32px;\n",
              "  }\n",
              "\n",
              "  .colab-df-quickchart:hover {\n",
              "    background-color: var(--hover-bg-color);\n",
              "    box-shadow: 0 1px 2px rgba(60, 64, 67, 0.3), 0 1px 3px 1px rgba(60, 64, 67, 0.15);\n",
              "    fill: var(--button-hover-fill-color);\n",
              "  }\n",
              "\n",
              "  .colab-df-quickchart-complete:disabled,\n",
              "  .colab-df-quickchart-complete:disabled:hover {\n",
              "    background-color: var(--disabled-bg-color);\n",
              "    fill: var(--disabled-fill-color);\n",
              "    box-shadow: none;\n",
              "  }\n",
              "\n",
              "  .colab-df-spinner {\n",
              "    border: 2px solid var(--fill-color);\n",
              "    border-color: transparent;\n",
              "    border-bottom-color: var(--fill-color);\n",
              "    animation:\n",
              "      spin 1s steps(1) infinite;\n",
              "  }\n",
              "\n",
              "  @keyframes spin {\n",
              "    0% {\n",
              "      border-color: transparent;\n",
              "      border-bottom-color: var(--fill-color);\n",
              "      border-left-color: var(--fill-color);\n",
              "    }\n",
              "    20% {\n",
              "      border-color: transparent;\n",
              "      border-left-color: var(--fill-color);\n",
              "      border-top-color: var(--fill-color);\n",
              "    }\n",
              "    30% {\n",
              "      border-color: transparent;\n",
              "      border-left-color: var(--fill-color);\n",
              "      border-top-color: var(--fill-color);\n",
              "      border-right-color: var(--fill-color);\n",
              "    }\n",
              "    40% {\n",
              "      border-color: transparent;\n",
              "      border-right-color: var(--fill-color);\n",
              "      border-top-color: var(--fill-color);\n",
              "    }\n",
              "    60% {\n",
              "      border-color: transparent;\n",
              "      border-right-color: var(--fill-color);\n",
              "    }\n",
              "    80% {\n",
              "      border-color: transparent;\n",
              "      border-right-color: var(--fill-color);\n",
              "      border-bottom-color: var(--fill-color);\n",
              "    }\n",
              "    90% {\n",
              "      border-color: transparent;\n",
              "      border-bottom-color: var(--fill-color);\n",
              "    }\n",
              "  }\n",
              "</style>\n",
              "\n",
              "  <script>\n",
              "    async function quickchart(key) {\n",
              "      const quickchartButtonEl =\n",
              "        document.querySelector('#' + key + ' button');\n",
              "      quickchartButtonEl.disabled = true;  // To prevent multiple clicks.\n",
              "      quickchartButtonEl.classList.add('colab-df-spinner');\n",
              "      try {\n",
              "        const charts = await google.colab.kernel.invokeFunction(\n",
              "            'suggestCharts', [key], {});\n",
              "      } catch (error) {\n",
              "        console.error('Error during call to suggestCharts:', error);\n",
              "      }\n",
              "      quickchartButtonEl.classList.remove('colab-df-spinner');\n",
              "      quickchartButtonEl.classList.add('colab-df-quickchart-complete');\n",
              "    }\n",
              "    (() => {\n",
              "      let quickchartButtonEl =\n",
              "        document.querySelector('#df-8f3b01c1-ccaa-4e63-a1c3-2ac7a919be6d button');\n",
              "      quickchartButtonEl.style.display =\n",
              "        google.colab.kernel.accessAllowed ? 'block' : 'none';\n",
              "    })();\n",
              "  </script>\n",
              "</div>\n",
              "\n",
              "  <div id=\"id_db3fbf4e-039f-4de0-8f2e-09cf0e647f2a\">\n",
              "    <style>\n",
              "      .colab-df-generate {\n",
              "        background-color: #E8F0FE;\n",
              "        border: none;\n",
              "        border-radius: 50%;\n",
              "        cursor: pointer;\n",
              "        display: none;\n",
              "        fill: #1967D2;\n",
              "        height: 32px;\n",
              "        padding: 0 0 0 0;\n",
              "        width: 32px;\n",
              "      }\n",
              "\n",
              "      .colab-df-generate:hover {\n",
              "        background-color: #E2EBFA;\n",
              "        box-shadow: 0px 1px 2px rgba(60, 64, 67, 0.3), 0px 1px 3px 1px rgba(60, 64, 67, 0.15);\n",
              "        fill: #174EA6;\n",
              "      }\n",
              "\n",
              "      [theme=dark] .colab-df-generate {\n",
              "        background-color: #3B4455;\n",
              "        fill: #D2E3FC;\n",
              "      }\n",
              "\n",
              "      [theme=dark] .colab-df-generate:hover {\n",
              "        background-color: #434B5C;\n",
              "        box-shadow: 0px 1px 3px 1px rgba(0, 0, 0, 0.15);\n",
              "        filter: drop-shadow(0px 1px 2px rgba(0, 0, 0, 0.3));\n",
              "        fill: #FFFFFF;\n",
              "      }\n",
              "    </style>\n",
              "    <button class=\"colab-df-generate\" onclick=\"generateWithVariable('data')\"\n",
              "            title=\"Generate code using this dataframe.\"\n",
              "            style=\"display:none;\">\n",
              "\n",
              "  <svg xmlns=\"http://www.w3.org/2000/svg\" height=\"24px\"viewBox=\"0 0 24 24\"\n",
              "       width=\"24px\">\n",
              "    <path d=\"M7,19H8.4L18.45,9,17,7.55,7,17.6ZM5,21V16.75L18.45,3.32a2,2,0,0,1,2.83,0l1.4,1.43a1.91,1.91,0,0,1,.58,1.4,1.91,1.91,0,0,1-.58,1.4L9.25,21ZM18.45,9,17,7.55Zm-12,3A5.31,5.31,0,0,0,4.9,8.1,5.31,5.31,0,0,0,1,6.5,5.31,5.31,0,0,0,4.9,4.9,5.31,5.31,0,0,0,6.5,1,5.31,5.31,0,0,0,8.1,4.9,5.31,5.31,0,0,0,12,6.5,5.46,5.46,0,0,0,6.5,12Z\"/>\n",
              "  </svg>\n",
              "    </button>\n",
              "    <script>\n",
              "      (() => {\n",
              "      const buttonEl =\n",
              "        document.querySelector('#id_db3fbf4e-039f-4de0-8f2e-09cf0e647f2a button.colab-df-generate');\n",
              "      buttonEl.style.display =\n",
              "        google.colab.kernel.accessAllowed ? 'block' : 'none';\n",
              "\n",
              "      buttonEl.onclick = () => {\n",
              "        google.colab.notebook.generateWithVariable('data');\n",
              "      }\n",
              "      })();\n",
              "    </script>\n",
              "  </div>\n",
              "\n",
              "    </div>\n",
              "  </div>\n"
            ],
            "application/vnd.google.colaboratory.intrinsic+json": {
              "type": "dataframe",
              "variable_name": "data",
              "summary": "{\n  \"name\": \"data\",\n  \"rows\": 1461,\n  \"fields\": [\n    {\n      \"column\": \"close_x\",\n      \"properties\": {\n        \"dtype\": \"number\",\n        \"std\": 9.500611611818776,\n        \"min\": 39.00984033955607,\n        \"max\": 72.559569785278,\n        \"num_unique_values\": 1461,\n        \"samples\": [\n          48.35723544308067,\n          41.16062799226842,\n          62.578074432072285\n        ],\n        \"semantic_type\": \"\",\n        \"description\": \"\"\n      }\n    },\n    {\n      \"column\": \"close_y\",\n      \"properties\": {\n        \"dtype\": \"number\",\n        \"std\": 15100.745711481533,\n        \"min\": 4800.0,\n        \"max\": 67525.83,\n        \"num_unique_values\": 1461,\n        \"samples\": [\n          28424.7,\n          17440.66,\n          52119.71\n        ],\n        \"semantic_type\": \"\",\n        \"description\": \"\"\n      }\n    },\n    {\n      \"column\": \"close\",\n      \"properties\": {\n        \"dtype\": \"number\",\n        \"std\": 0.30135059164931266,\n        \"min\": 0.13549,\n        \"max\": 1.83468,\n        \"num_unique_values\": 1382,\n        \"samples\": [\n          0.25374,\n          0.6368,\n          0.24154\n        ],\n        \"semantic_type\": \"\",\n        \"description\": \"\"\n      }\n    }\n  ]\n}"
            }
          },
          "metadata": {},
          "execution_count": 26
        }
      ]
    },
    {
      "cell_type": "markdown",
      "source": [
        "## Min max scaling"
      ],
      "metadata": {
        "id": "dFiKzAL2VO63"
      }
    },
    {
      "cell_type": "code",
      "source": [
        "from sklearn.preprocessing import MinMaxScaler"
      ],
      "metadata": {
        "id": "qijGpnY6SxYj"
      },
      "execution_count": null,
      "outputs": []
    },
    {
      "cell_type": "code",
      "source": [
        "scaler = MinMaxScaler()\n",
        "scaler.fit(data)\n",
        "scaled_data = scaler.transform(data)\n",
        "\n",
        "# scaler = MinMaxScaler()\n",
        "# scaler.fit(data2)\n",
        "# scaled_data2 = scaler.transform(data2)"
      ],
      "metadata": {
        "id": "23DifY2MS6bU"
      },
      "execution_count": null,
      "outputs": []
    },
    {
      "cell_type": "code",
      "source": [
        "# combined_array = np.concatenate((scaled_data, scaled_data2), axis=1)\n",
        "\n",
        "x = scaled_data[:, [0,1, 2]].copy()\n",
        "y = scaled_data[:, 2].copy()"
      ],
      "metadata": {
        "id": "dUdq6_J-WTy1"
      },
      "execution_count": null,
      "outputs": []
    },
    {
      "cell_type": "code",
      "source": [
        "x.shape, y.shape, x"
      ],
      "metadata": {
        "id": "0RS7Qnl1TSiu",
        "colab": {
          "base_uri": "https://localhost:8080/"
        },
        "outputId": "51127cd7-ec43-4887-8fc4-41c4f9f2d68b"
      },
      "execution_count": null,
      "outputs": [
        {
          "output_type": "execute_result",
          "data": {
            "text/plain": [
              "((1461, 3),\n",
              " (1461,),\n",
              " array([[0.9213695 , 0.0382753 , 0.03387496],\n",
              "        [0.92133442, 0.03452661, 0.0306087 ],\n",
              "        [0.92238209, 0.04057276, 0.03406917],\n",
              "        ...,\n",
              "        [0.36579819, 0.59412446, 0.28690729],\n",
              "        [0.36884987, 0.59529352, 0.28555371],\n",
              "        [0.37511109, 0.59757806, 0.28255227]]))"
            ]
          },
          "metadata": {},
          "execution_count": 43
        }
      ]
    },
    {
      "cell_type": "markdown",
      "source": [
        "## Batch data 제작"
      ],
      "metadata": {
        "id": "ieRrUCS1VgwH"
      }
    },
    {
      "cell_type": "code",
      "source": [
        "timestemps = 32"
      ],
      "metadata": {
        "id": "QXG3seqZTUwo"
      },
      "execution_count": null,
      "outputs": []
    },
    {
      "cell_type": "code",
      "source": [
        "x_seq = []\n",
        "y_seq = []\n",
        "\n",
        "for i in range(len(y)-timestemps):\n",
        "  x_seq.append(x[i:i+timestemps, :])\n",
        "  y_seq.append(y[i+timestemps])"
      ],
      "metadata": {
        "id": "4ngw8cl4TXLl"
      },
      "execution_count": null,
      "outputs": []
    },
    {
      "cell_type": "code",
      "source": [
        "len(x_seq), len(y_seq)"
      ],
      "metadata": {
        "id": "M6vx1YOGTY9f",
        "colab": {
          "base_uri": "https://localhost:8080/"
        },
        "outputId": "147d0570-696b-4242-eaaf-9d5b0aa3469c"
      },
      "execution_count": null,
      "outputs": [
        {
          "output_type": "execute_result",
          "data": {
            "text/plain": [
              "(1429, 1429)"
            ]
          },
          "metadata": {},
          "execution_count": 46
        }
      ]
    },
    {
      "cell_type": "code",
      "source": [
        "x_seq = np.array(x_seq)\n",
        "y_seq = np.array(y_seq)"
      ],
      "metadata": {
        "id": "1I35rgMeTaR_"
      },
      "execution_count": null,
      "outputs": []
    },
    {
      "cell_type": "code",
      "source": [
        "train_size = int(len(x_seq) * 0.6)\n",
        "val_size = int(len(y_seq) * 0.2)\n",
        "\n",
        "train_size, val_size"
      ],
      "metadata": {
        "id": "wq66ZIw0UF6F",
        "colab": {
          "base_uri": "https://localhost:8080/"
        },
        "outputId": "c538fe49-76c6-4a93-be45-5e9c499b4177"
      },
      "execution_count": null,
      "outputs": [
        {
          "output_type": "execute_result",
          "data": {
            "text/plain": [
              "(857, 285)"
            ]
          },
          "metadata": {},
          "execution_count": 48
        }
      ]
    },
    {
      "cell_type": "code",
      "source": [
        "x_train = x_seq[:train_size].copy()\n",
        "x_val = x_seq[train_size:train_size+val_size].copy()\n",
        "x_test = x_seq[train_size+val_size:].copy()\n",
        "\n",
        "y_train = y_seq[:train_size].copy()\n",
        "y_val = y_seq[train_size:train_size+val_size].copy()\n",
        "y_test = y_seq[train_size+val_size:].copy()\n",
        "\n",
        "# x_val = x_seq[:val_size].copy()\n",
        "# x_train = x_seq[val_size:train_size+val_size].copy()\n",
        "# x_test = x_seq[train_size+val_size:].copy()\n",
        "\n",
        "# y_val = y_seq[:val_size].copy()\n",
        "# y_train = y_seq[val_size:train_size+val_size].copy()\n",
        "# y_test = y_seq[train_size+val_size:].copy()\n",
        "\n",
        "# result_data = np.array(data2.iloc[:,3])[timestemps:]\n",
        "# result_data = result_data[train_size+val_size:].copy()\n",
        "\n",
        "# result_value = np.array(data2.iloc[:,4])[timestemps:]\n",
        "# result_value = result_value[train_size+val_size:].copy()\n"
      ],
      "metadata": {
        "id": "a79IFFX3UPtB"
      },
      "execution_count": null,
      "outputs": []
    },
    {
      "cell_type": "code",
      "source": [
        "# x_train.shape, y_train.shape, x_val.shape, y_val.shape, x_test.shape, y_test.shape"
      ],
      "metadata": {
        "id": "n3DDLKjhUQ5A"
      },
      "execution_count": null,
      "outputs": []
    },
    {
      "cell_type": "markdown",
      "source": [
        "## AI Modeling with LSTM"
      ],
      "metadata": {
        "id": "a5udWuEZVK1k"
      }
    },
    {
      "cell_type": "code",
      "source": [
        "from tensorflow.keras.backend import clear_session\n",
        "from tensorflow.keras.models import Sequential\n",
        "from tensorflow.keras.layers import LSTM, Dense, Dropout, BatchNormalization\n",
        "from tensorflow.keras.optimizers import Adam\n",
        "from tensorflow.keras.losses import mse, MeanSquaredError, huber, mae\n",
        "from tensorflow.keras.callbacks import EarlyStopping\n",
        "from tensorflow.keras.models import load_model\n",
        "\n",
        "from scipy.stats import pearsonr"
      ],
      "metadata": {
        "id": "SBl1wcDmTcwE"
      },
      "execution_count": null,
      "outputs": []
    },
    {
      "cell_type": "code",
      "source": [
        "clear_session()\n",
        "\n",
        "model = Sequential([\n",
        "    LSTM(256, input_shape = x_seq[0].shape, return_sequences=True),\n",
        "    Dropout(0.2),\n",
        "    # BatchNormalization(),\n",
        "    LSTM(128, return_sequences=True),\n",
        "    Dropout(0.2),\n",
        "    # BatchNormalization(),\n",
        "    LSTM(64, return_sequences=False),\n",
        "    Dropout(0.2),\n",
        "    # BatchNormalization(),\n",
        "    Dense(32, activation = 'relu'),\n",
        "    Dropout(0.2),\n",
        "    Dense(1)\n",
        "])\n",
        "\n",
        "opt = Adam(learning_rate=0.001)\n",
        "loss = mse\n",
        "\n",
        "model.compile(loss = loss, optimizer = opt, metrics = ['mse'])\n",
        "model.summary()\n",
        "\n",
        "# 조기 종료 콜백 생성\n",
        "early_stopping = EarlyStopping(monitor='val_loss', patience=10)\n",
        "\n",
        "# 모델 훈련 시 콜백 추가\n",
        "model.fit(x_train, y_train, batch_size = 32, epochs=100, verbose=1, validation_data=(x_val, y_val), callbacks=[early_stopping])\n",
        "model.summary()"
      ],
      "metadata": {
        "id": "01m6Ts01UC4f",
        "colab": {
          "base_uri": "https://localhost:8080/"
        },
        "outputId": "7cde4750-8789-4946-9660-2de3819ef0b8"
      },
      "execution_count": null,
      "outputs": [
        {
          "output_type": "stream",
          "name": "stdout",
          "text": [
            "Model: \"sequential\"\n",
            "_________________________________________________________________\n",
            " Layer (type)                Output Shape              Param #   \n",
            "=================================================================\n",
            " lstm (LSTM)                 (None, 32, 256)           266240    \n",
            "                                                                 \n",
            " dropout (Dropout)           (None, 32, 256)           0         \n",
            "                                                                 \n",
            " lstm_1 (LSTM)               (None, 32, 128)           197120    \n",
            "                                                                 \n",
            " dropout_1 (Dropout)         (None, 32, 128)           0         \n",
            "                                                                 \n",
            " lstm_2 (LSTM)               (None, 64)                49408     \n",
            "                                                                 \n",
            " dropout_2 (Dropout)         (None, 64)                0         \n",
            "                                                                 \n",
            " dense (Dense)               (None, 32)                2080      \n",
            "                                                                 \n",
            " dropout_3 (Dropout)         (None, 32)                0         \n",
            "                                                                 \n",
            " dense_1 (Dense)             (None, 1)                 33        \n",
            "                                                                 \n",
            "=================================================================\n",
            "Total params: 514881 (1.96 MB)\n",
            "Trainable params: 514881 (1.96 MB)\n",
            "Non-trainable params: 0 (0.00 Byte)\n",
            "_________________________________________________________________\n",
            "Epoch 1/100\n",
            "27/27 [==============================] - 6s 50ms/step - loss: 0.0279 - mse: 0.0279 - val_loss: 8.4064e-04 - val_mse: 8.4064e-04\n",
            "Epoch 2/100\n",
            "27/27 [==============================] - 0s 11ms/step - loss: 0.0127 - mse: 0.0127 - val_loss: 5.5500e-04 - val_mse: 5.5500e-04\n",
            "Epoch 3/100\n",
            "27/27 [==============================] - 0s 11ms/step - loss: 0.0107 - mse: 0.0107 - val_loss: 5.1727e-04 - val_mse: 5.1727e-04\n",
            "Epoch 4/100\n",
            "27/27 [==============================] - 0s 11ms/step - loss: 0.0088 - mse: 0.0088 - val_loss: 0.0019 - val_mse: 0.0019\n",
            "Epoch 5/100\n",
            "27/27 [==============================] - 0s 11ms/step - loss: 0.0088 - mse: 0.0088 - val_loss: 3.7374e-04 - val_mse: 3.7374e-04\n",
            "Epoch 6/100\n",
            "27/27 [==============================] - 0s 14ms/step - loss: 0.0075 - mse: 0.0075 - val_loss: 5.1855e-04 - val_mse: 5.1855e-04\n",
            "Epoch 7/100\n",
            "27/27 [==============================] - 0s 15ms/step - loss: 0.0066 - mse: 0.0066 - val_loss: 6.7907e-04 - val_mse: 6.7907e-04\n",
            "Epoch 8/100\n",
            "27/27 [==============================] - 1s 19ms/step - loss: 0.0063 - mse: 0.0063 - val_loss: 4.3125e-04 - val_mse: 4.3125e-04\n",
            "Epoch 9/100\n",
            "27/27 [==============================] - 1s 30ms/step - loss: 0.0065 - mse: 0.0065 - val_loss: 5.0817e-04 - val_mse: 5.0817e-04\n",
            "Epoch 10/100\n",
            "27/27 [==============================] - 1s 23ms/step - loss: 0.0057 - mse: 0.0057 - val_loss: 0.0012 - val_mse: 0.0012\n",
            "Epoch 11/100\n",
            "27/27 [==============================] - 0s 11ms/step - loss: 0.0073 - mse: 0.0073 - val_loss: 2.8503e-04 - val_mse: 2.8503e-04\n",
            "Epoch 12/100\n",
            "27/27 [==============================] - 0s 12ms/step - loss: 0.0055 - mse: 0.0055 - val_loss: 2.6923e-04 - val_mse: 2.6923e-04\n",
            "Epoch 13/100\n",
            "27/27 [==============================] - 0s 12ms/step - loss: 0.0049 - mse: 0.0049 - val_loss: 4.8232e-04 - val_mse: 4.8232e-04\n",
            "Epoch 14/100\n",
            "27/27 [==============================] - 0s 12ms/step - loss: 0.0052 - mse: 0.0052 - val_loss: 2.7728e-04 - val_mse: 2.7728e-04\n",
            "Epoch 15/100\n",
            "27/27 [==============================] - 0s 11ms/step - loss: 0.0047 - mse: 0.0047 - val_loss: 4.4506e-04 - val_mse: 4.4506e-04\n",
            "Epoch 16/100\n",
            "27/27 [==============================] - 0s 11ms/step - loss: 0.0039 - mse: 0.0039 - val_loss: 3.6184e-04 - val_mse: 3.6184e-04\n",
            "Epoch 17/100\n",
            "27/27 [==============================] - 0s 11ms/step - loss: 0.0046 - mse: 0.0046 - val_loss: 2.2580e-04 - val_mse: 2.2580e-04\n",
            "Epoch 18/100\n",
            "27/27 [==============================] - 0s 11ms/step - loss: 0.0046 - mse: 0.0046 - val_loss: 2.6360e-04 - val_mse: 2.6360e-04\n",
            "Epoch 19/100\n",
            "27/27 [==============================] - 0s 12ms/step - loss: 0.0038 - mse: 0.0038 - val_loss: 3.0670e-04 - val_mse: 3.0670e-04\n",
            "Epoch 20/100\n",
            "27/27 [==============================] - 0s 11ms/step - loss: 0.0043 - mse: 0.0043 - val_loss: 6.5555e-04 - val_mse: 6.5555e-04\n",
            "Epoch 21/100\n",
            "27/27 [==============================] - 0s 11ms/step - loss: 0.0037 - mse: 0.0037 - val_loss: 4.8848e-04 - val_mse: 4.8848e-04\n",
            "Epoch 22/100\n",
            "27/27 [==============================] - 0s 11ms/step - loss: 0.0041 - mse: 0.0041 - val_loss: 5.8012e-04 - val_mse: 5.8012e-04\n",
            "Epoch 23/100\n",
            "27/27 [==============================] - 0s 11ms/step - loss: 0.0042 - mse: 0.0042 - val_loss: 7.6984e-04 - val_mse: 7.6984e-04\n",
            "Epoch 24/100\n",
            "27/27 [==============================] - 0s 11ms/step - loss: 0.0037 - mse: 0.0037 - val_loss: 2.2602e-04 - val_mse: 2.2602e-04\n",
            "Epoch 25/100\n",
            "27/27 [==============================] - 0s 11ms/step - loss: 0.0038 - mse: 0.0038 - val_loss: 2.6500e-04 - val_mse: 2.6500e-04\n",
            "Epoch 26/100\n",
            "27/27 [==============================] - 0s 11ms/step - loss: 0.0036 - mse: 0.0036 - val_loss: 3.4078e-04 - val_mse: 3.4078e-04\n",
            "Epoch 27/100\n",
            "27/27 [==============================] - 0s 11ms/step - loss: 0.0040 - mse: 0.0040 - val_loss: 7.2744e-04 - val_mse: 7.2744e-04\n",
            "Model: \"sequential\"\n",
            "_________________________________________________________________\n",
            " Layer (type)                Output Shape              Param #   \n",
            "=================================================================\n",
            " lstm (LSTM)                 (None, 32, 256)           266240    \n",
            "                                                                 \n",
            " dropout (Dropout)           (None, 32, 256)           0         \n",
            "                                                                 \n",
            " lstm_1 (LSTM)               (None, 32, 128)           197120    \n",
            "                                                                 \n",
            " dropout_1 (Dropout)         (None, 32, 128)           0         \n",
            "                                                                 \n",
            " lstm_2 (LSTM)               (None, 64)                49408     \n",
            "                                                                 \n",
            " dropout_2 (Dropout)         (None, 64)                0         \n",
            "                                                                 \n",
            " dense (Dense)               (None, 32)                2080      \n",
            "                                                                 \n",
            " dropout_3 (Dropout)         (None, 32)                0         \n",
            "                                                                 \n",
            " dense_1 (Dense)             (None, 1)                 33        \n",
            "                                                                 \n",
            "=================================================================\n",
            "Total params: 514881 (1.96 MB)\n",
            "Trainable params: 514881 (1.96 MB)\n",
            "Non-trainable params: 0 (0.00 Byte)\n",
            "_________________________________________________________________\n"
          ]
        }
      ]
    },
    {
      "cell_type": "code",
      "source": [
        "y_pred = model.predict(x_test)"
      ],
      "metadata": {
        "id": "wcNv_mW5UT7U",
        "colab": {
          "base_uri": "https://localhost:8080/"
        },
        "outputId": "27951642-4cbf-4fa6-9089-78d5ac2931eb"
      },
      "execution_count": null,
      "outputs": [
        {
          "output_type": "stream",
          "name": "stdout",
          "text": [
            "9/9 [==============================] - 1s 4ms/step\n"
          ]
        }
      ]
    },
    {
      "cell_type": "code",
      "source": [
        "plt.figure()\n",
        "plt.plot(y_test, color='gray')\n",
        "plt.plot(y_pred, color='red')\n",
        "plt.show()"
      ],
      "metadata": {
        "id": "gZ2r2x2VUxZx",
        "colab": {
          "base_uri": "https://localhost:8080/",
          "height": 430
        },
        "outputId": "9f59d614-c586-4261-e040-90a2fe2dd9cb"
      },
      "execution_count": null,
      "outputs": [
        {
          "output_type": "display_data",
          "data": {
            "text/plain": [
              "<Figure size 640x480 with 1 Axes>"
            ],
            "image/png": "[encoded data removed]"
          },
          "metadata": {}
        }
      ]
    },
    {
      "cell_type": "code",
      "source": [
        "# y_pred를 1차원 배열로 변환합니다.\n",
        "y_pred = y_pred.reshape(-1)\n",
        "# scipy의 pearsonr 함수를 사용하여 피어슨 상관계수를 계산합니다.\n",
        "corr, _ = pearsonr(y_pred, y_test)\n",
        "print(\"Pearson correlation: %.3f\" % corr)"
      ],
      "metadata": {
        "colab": {
          "base_uri": "https://localhost:8080/"
        },
        "id": "68X5I4jCDDsy",
        "outputId": "040d7f2a-9b59-4c64-f0bd-da25102cf712"
      },
      "execution_count": null,
      "outputs": [
        {
          "output_type": "stream",
          "name": "stdout",
          "text": [
            "Pearson correlation: 0.916\n"
          ]
        }
      ]
    },
    {
      "cell_type": "code",
      "source": [
        "# win = 0\n",
        "# los = 0\n",
        "# result = 1\n",
        "# leverage = 1\n",
        "# fee = 0.04\n",
        "\n",
        "# for i in range(2, len(y_test)):\n",
        "#   if result_value[i-2] < result_value[i-1]:\n",
        "#     result *= (1 - fee * leverage)\n",
        "#     if (y_test[i] - y_test[i-1]) * (y_pred[i] - y_pred[i-1]) > 0:\n",
        "#       result *= (1 + (abs(result_data[i] - result_data[i-1]) / result_data[i-1]) * leverage) * (1 - fee * leverage)\n",
        "#       win += 1\n",
        "#       leverage = 1\n",
        "#     else:\n",
        "#       result *= (1 - (abs(result_data[i] - result_data[i-1]) / result_data[i-1]) * leverage) * (1 - fee * leverage)\n",
        "#       los += 1\n",
        "#       leverage += 1\n",
        "# rate = win / (win+los)\n",
        "\n",
        "# win, los, str(int(rate*100))+'%', result"
      ],
      "metadata": {
        "id": "BmKGHbzwO0wD"
      },
      "execution_count": null,
      "outputs": []
    },
    {
      "cell_type": "code",
      "source": [],
      "metadata": {
        "id": "XVKpBFV5lisz"
      },
      "execution_count": null,
      "outputs": []
    }
  ]
}